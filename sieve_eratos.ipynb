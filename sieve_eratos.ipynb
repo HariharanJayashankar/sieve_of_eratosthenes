{
 "cells": [
  {
   "cell_type": "markdown",
   "metadata": {},
   "source": [
    "# Sieve of Eratosthenes\n",
    "\n",
    "The seive of Eratosthenes is a basic algorithm used to find all the primes between 2 and a number $N \\in \\mathbb{R_+}$. This is an implementation of the sieve with some explanation attached in words and pseudo code.\n",
    "\n",
    "The sieve's core algorithm is very intuitive:\n",
    "\n",
    "1. Create a list $P$ from 2 to N\n",
    "2. Set a variable $p$ to be a number from the list. It will start with $p = 2$\n",
    "3. Create a list $C$ of the multiples of $p$ by starting from $2p$ and incrementing by $p$ all the way till $N$\n",
    "4. Mark the values in the list $P$ which are present in $C$. These are non-primes\n",
    "5. Choose the next non-marked value in $P$ as the next $p$. Start again from step 3.\n",
    "\n",
    "In the end, all the non marked numbers  will be our primes.\n",
    "\n",
    "This is a straightforward sieve which uses the singular property of prime numbers that they can't be multiples of other other numbers.\n",
    "\n",
    "In the algorithm here, we add on to this the fact that if a number $n$ is a composite number, all the its prime factors will be $\\le\\sqrt{N}$.\n",
    "Therefore when testing for whether a number $p$ from our list  $P$ is prime, we need only check from the number $p^2$, till $N$ in increments of $p$.\n",
    "It's a minor modification, but it speeds up our algorithm decently.\n",
    "\n",
    "This is in python, so there is heavy use of numba's capabilities to significantly speed up the algorithm.\n"
   ]
  },
  {
   "cell_type": "code",
   "execution_count": 1,
   "metadata": {},
   "outputs": [
    {
     "data": {
      "text/plain": [
       "array([2., 3., 0., 5., 0., 7., 0., 0., 0.])"
      ]
     },
     "execution_count": 1,
     "metadata": {},
     "output_type": "execute_result"
    }
   ],
   "source": [
    "import numpy as np\n",
    "from numba import jit, njit, prange\n",
    "\n",
    "@njit\n",
    "def eratos(max = 200):\n",
    "\n",
    "\t# we use 'max - 1' for arrays because 1 isnt \n",
    "\t# going to be a prime\n",
    "\t# This consequently means that when assigning\n",
    "\t# numbers to arrays, we need to specify the position\n",
    "\t# as 'number - 2', because of 0 indexing and starting\n",
    "\t# from the number 2\n",
    "\t# For example, the number 2 is referenced as array[0]\n",
    "    \n",
    "\tmax = float(max)\n",
    "\n",
    "\tis_prime = np.ones(int(max-1))\n",
    "\tprimes = np.zeros(int(max-1)) #initialize empty array\n",
    "\tprimes[0] = 2.0 #first prime is 2\n",
    "\n",
    "\tfor i in prange(3, max, 2):\n",
    "\t\tif is_prime[i-2] == 1:\n",
    "\t\t\tprimes[i-2] = i\n",
    "\n",
    "\t\t\tfor j in prange(i*i, max, i):\n",
    "\t\t\t\tis_prime[j-2] = 0\n",
    "\n",
    "\treturn(primes)\n",
    "\n",
    "eratos(10)"
   ]
  },
  {
   "cell_type": "code",
   "execution_count": 2,
   "metadata": {},
   "outputs": [
    {
     "name": "stdout",
     "output_type": "stream",
     "text": [
      "Wall time: 0 ns\n"
     ]
    },
    {
     "data": {
      "text/plain": [
       "array([2.00000e+00, 3.00000e+00, 0.00000e+00, ..., 0.00000e+00,\n",
       "       1.99999e+05, 0.00000e+00])"
      ]
     },
     "execution_count": 2,
     "metadata": {},
     "output_type": "execute_result"
    }
   ],
   "source": [
    "%time\n",
    "eratos(2e5)"
   ]
  }
 ],
 "metadata": {
  "kernelspec": {
   "display_name": "Python 3",
   "language": "python",
   "name": "python3"
  },
  "language_info": {
   "codemirror_mode": {
    "name": "ipython",
    "version": 3
   },
   "file_extension": ".py",
   "mimetype": "text/x-python",
   "name": "python",
   "nbconvert_exporter": "python",
   "pygments_lexer": "ipython3",
   "version": "3.6.6"
  }
 },
 "nbformat": 4,
 "nbformat_minor": 2
}
